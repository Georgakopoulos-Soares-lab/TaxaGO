{
 "cells": [
  {
   "cell_type": "code",
   "execution_count": 1,
   "id": "04c7ba6d",
   "metadata": {},
   "outputs": [],
   "source": [
    "import pandas as pd \n",
    "from pathlib import Path\n",
    "import numpy as np\n",
    "\n",
    "def read_uniprot(uniprot_metadata):\n",
    "    uniprot_info = pd.read_csv(\n",
    "        uniprot_metadata,\n",
    "        sep='\\t'\n",
    "        ).drop(columns= [\"Proteome_ID\",\"OSCODE\",\"#(1)\", \"#(2)\",\"#(3)\"]).rename(columns={\n",
    "            \"Species Name\": \"Species_Name\"\n",
    "        })\n",
    "\n",
    "    return uniprot_info[uniprot_info[\"SUPERREGNUM\"] != \"viruses\"]\n",
    "\n",
    "def read_goa(\n",
    "    goa_metadata,\n",
    "    processed_uniprot_metadata\n",
    "):\n",
    "    goa_info = pd.read_csv(\n",
    "        goa_metadata,\n",
    "        sep='\\t',\n",
    "        header = None,\n",
    "        names = [\n",
    "            \"Species_Name\",\n",
    "            \"Tax_ID\",\n",
    "            \"GOA_file\"\n",
    "        ])\n",
    "\n",
    "    return goa_info[goa_info['Tax_ID'].isin(processed_uniprot_metadata['Tax_ID'])]\n"
   ]
  },
  {
   "cell_type": "code",
   "execution_count": null,
   "id": "12a4234c",
   "metadata": {},
   "outputs": [],
   "source": [
    "uniprot_metadata = read_uniprot(\n",
    "    \"UniProt_metadata.txt\"\n",
    ")\n",
    "\n",
    "goa_metadata = read_goa(\n",
    "    \"GOA_metadata.txt\",\n",
    "    uniprot_metadata\n",
    ")\n",
    "\n",
    "metadata = pd.merge(\n",
    "        goa_metadata,\n",
    "        uniprot_metadata[['Tax_ID', \"SUPERREGNUM\"]],\n",
    "        on='Tax_ID',\n",
    "        how='left'\n",
    "    ).drop(columns=['GOA_file'])\n"
   ]
  },
  {
   "cell_type": "code",
   "execution_count": 3,
   "id": "c8e227c9",
   "metadata": {},
   "outputs": [],
   "source": [
    "lineage_names = [\n",
    "    'Tax_ID',\n",
    "    'Name', \n",
    "    'Species', \n",
    "    'Genus', \n",
    "    'Family', \n",
    "    'Order',\n",
    "    'Class', \n",
    "    'Phylum', \n",
    "    'Kingdom', \n",
    "    'Realm', \n",
    "    'Domain'\n",
    "]"
   ]
  },
  {
   "cell_type": "code",
   "execution_count": 4,
   "id": "222d3e11",
   "metadata": {},
   "outputs": [
    {
     "name": "stderr",
     "output_type": "stream",
     "text": [
      "/tmp/ipykernel_1200613/3700453591.py:12: FutureWarning: Downcasting behavior in `replace` is deprecated and will be removed in a future version. To retain the old behavior, explicitly call `result.infer_objects(copy=False)`. To opt-in to the future behavior, set `pd.set_option('future.no_silent_downcasting', True)`\n",
      "  lineage = lineage.replace('', np.nan)\n"
     ]
    }
   ],
   "source": [
    "lineage = pd.read_csv(\"rankedlineage.dmp\",  \n",
    "                    sep='|',\n",
    "                    header=None,\n",
    "                    names=lineage_names,\n",
    "                    dtype=str,\n",
    "                    keep_default_na=False)\n",
    "\n",
    "for col in lineage.columns:\n",
    "    lineage[col] = lineage[col].str.strip()\n",
    "\n",
    "lineage['Tax_ID'] = pd.to_numeric(lineage['Tax_ID'], errors='coerce')\n",
    "lineage = lineage.replace('', np.nan)\n",
    "lineage = lineage[lineage['Tax_ID'].isin(metadata['Tax_ID'])]\n",
    "lineage = lineage.drop(columns=['Domain','Species'])\n",
    "lineage = lineage.rename(columns={\n",
    "    \"Realm\": \"Superkingdom\"\n",
    "})\n"
   ]
  },
  {
   "cell_type": "code",
   "execution_count": 5,
   "id": "6eb23d95",
   "metadata": {},
   "outputs": [
    {
     "data": {
      "text/plain": [
       "{59451, 85948, 436010, 1914757}"
      ]
     },
     "execution_count": 5,
     "metadata": {},
     "output_type": "execute_result"
    }
   ],
   "source": [
    "lineage_set = set(lineage['Tax_ID'].unique().tolist())\n",
    "metadata_set = set(metadata['Tax_ID'].unique().tolist())\n",
    "metadata_set.difference(lineage_set)"
   ]
  },
  {
   "cell_type": "markdown",
   "id": "b9b33aa2",
   "metadata": {},
   "source": [
    "Add the missing data from the NCBI Taxonomy Browser site"
   ]
  },
  {
   "cell_type": "code",
   "execution_count": 6,
   "id": "a10a8e5d",
   "metadata": {},
   "outputs": [],
   "source": [
    "missing_data = [\n",
    "    [59451, 'Cnephaeus nilssonii', 'Cnephaeus', 'Vespertilionidae', 'Chiroptera', 'Mammalia', 'Chordata', 'Metazoa', 'Eukaryota'],\n",
    "    [85948, 'Lojkania enalia', 'Lojkania', np.nan, 'Pleosporales', 'Dothideomycetes', 'Ascomycota', 'Fungi', 'Eukaryota'],\n",
    "    [436010, 'Athelia psychrophila', 'Athelia', 'Atheliaceae', 'Atheliales', 'Agaricomycetes', 'Basidiomycota', 'Fungi', 'Eukaryota'],\n",
    "    [1914757, 'Sphingobacterium cellulitidis', 'Sphingobacterium', \"Sphingobacteriaceae\", 'Sphingobacteriales', 'Sphingobacteriia', 'Bacteroidota', 'Pseudomonadati', 'Bacteria']\n",
    "]\n",
    "lineage_names = [\n",
    "    'Tax_ID',\n",
    "    'Name', \n",
    "    'Genus', \n",
    "    'Family', \n",
    "    'Order',\n",
    "    'Class', \n",
    "    'Phylum', \n",
    "    'Kingdom', \n",
    "    'Superkingdom'\n",
    "]\n",
    "\n",
    "missing_data_df = pd.DataFrame(missing_data, columns=lineage_names)\n",
    "full_lineage = pd.concat([lineage, missing_data_df]).reset_index(drop=True)"
   ]
  },
  {
   "cell_type": "code",
   "execution_count": 7,
   "id": "7871dc70",
   "metadata": {},
   "outputs": [],
   "source": [
    "taxonomic_levels = ['Genus', 'Family', 'Order', 'Class', 'Phylum', 'Kingdom', 'Superkingdom']\n",
    "\n",
    "full_lineage_tax_columns = full_lineage[taxonomic_levels]\n",
    "full_lineage_anchors = full_lineage_tax_columns.bfill(axis=1)\n",
    "\n",
    "for col in taxonomic_levels:\n",
    "    original_na_mask = full_lineage[col].isna()\n",
    "    \n",
    "    anchor_found_mask = full_lineage_anchors[col].notna()\n",
    "    \n",
    "    effective_mask_to_fill = original_na_mask & anchor_found_mask\n",
    "    \n",
    "    if effective_mask_to_fill.any():\n",
    "        anchor_values_for_filling = full_lineage_anchors.loc[effective_mask_to_fill, col]\n",
    "        \n",
    "        fill_strings = \"Unclassified_\" + anchor_values_for_filling.astype(str)\n",
    "    \n",
    "        full_lineage.loc[effective_mask_to_fill, col] = fill_strings\n",
    "\n",
    "full_lineage = full_lineage.rename(columns={\n",
    "    \"Name\": \"Species\"\n",
    "})"
   ]
  },
  {
   "cell_type": "code",
   "execution_count": 8,
   "id": "77b4b802",
   "metadata": {},
   "outputs": [],
   "source": [
    "def capitalize_species_name(\n",
    "    species_name\n",
    "):\n",
    "    species_name = species_name.replace(\"'\",\"\").replace(\"[\",\"\").replace(\"]\",\"\")\n",
    "    return species_name[0].upper() + species_name[1:]\n",
    "\n",
    "full_lineage['Species'] = full_lineage['Species'].apply(capitalize_species_name)\n",
    "\n",
    "for col in full_lineage.columns:\n",
    "    full_lineage[col] = full_lineage[col].astype(str).str.replace(' ', '_', regex=False)\n",
    "\n",
    "final_lineage = full_lineage.sort_values(by=\"Superkingdom\")\n",
    "\n",
    "final_lineage.to_csv(\"lineage.txt\", index=False, sep='\\t')"
   ]
  }
 ],
 "metadata": {
  "kernelspec": {
   "display_name": "taxago_benchmarks",
   "language": "python",
   "name": "python3"
  },
  "language_info": {
   "codemirror_mode": {
    "name": "ipython",
    "version": 3
   },
   "file_extension": ".py",
   "mimetype": "text/x-python",
   "name": "python",
   "nbconvert_exporter": "python",
   "pygments_lexer": "ipython3",
   "version": "3.13.3"
  }
 },
 "nbformat": 4,
 "nbformat_minor": 5
}
